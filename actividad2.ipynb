{
  "nbformat": 4,
  "nbformat_minor": 0,
  "metadata": {
    "colab": {
      "provenance": [],
      "authorship_tag": "ABX9TyNfGSol5frmqwuhSwAUetgj",
      "include_colab_link": true
    },
    "kernelspec": {
      "name": "python3",
      "display_name": "Python 3"
    },
    "language_info": {
      "name": "python"
    }
  },
  "cells": [
    {
      "cell_type": "markdown",
      "metadata": {
        "id": "view-in-github",
        "colab_type": "text"
      },
      "source": [
        "<a href=\"https://colab.research.google.com/github/eleaz1/Act2-sistemasBasadosReglas/blob/main/actividad2.ipynb\" target=\"_parent\"><img src=\"https://colab.research.google.com/assets/colab-badge.svg\" alt=\"Open In Colab\"/></a>"
      ]
    },
    {
      "cell_type": "markdown",
      "source": [
        "**Actividad**\n",
        "El algoritmo de Dijkstra es un algoritmo clásico para encontrar la ruta más corta desde un nodo de origen a todos los demás nodos en un grafo ponderado con aristas no negativas. Fue propuesto por el científico de la computación Edsger W. Dijkstra en 1956 y publicado en 1959. Aquí tienes una explicación detallada del algoritmo:\n",
        "\n",
        "Conceptos Clave\n",
        "*   Grafo: Una estructura de datos que consiste en nodos (o vértices) y aristas (o enlaces) que conectan pares de nodos.\n",
        "*   Peso: Cada arista en el grafo tiene un peso asociado, que representa el costo o la distancia para moverse de un nodo a otro.\n",
        "*   Nodo de origen: El nodo desde el cual se desea encontrar la ruta más corta a todos los demás nodos.\n",
        "*   Nodo de destino: El nodo al cual se desea encontrar la ruta más corta desde el nodo de origen.\n",
        "\n",
        "\n",
        "Funcionamiento del Algoritmo\n",
        "\n",
        "\n",
        "1.   Inicialización:\n",
        "\n",
        "\n",
        "*   Se asigna una distancia inicial de 0 al nodo de origen y una distancia infinita a todos los demás nodos.\n",
        "*   Se utiliza una cola de prioridad (heap) para mantener los nodos a explorar, ordenados por su distancia acumulada desde el nodo de origen.\n",
        "*   Se utiliza un conjunto para mantener un registro de los nodos ya visitados.\n",
        "\n",
        "\n",
        "\n",
        "2.   Exploración:\n",
        "\n",
        "\n",
        "*   Mientras la cola de prioridad no esté vacía, se extrae el nodo con la menor distancia acumulada.\n",
        "*   Si el nodo extraído es el nodo de destino, el algoritmo termina.\n",
        "*   Para cada vecino del nodo extraído, se calcula la distancia acumulada desde el nodo de origen.\n",
        "*   Si la distancia calculada es menor que la distancia previamente conocida para ese vecino, se actualiza la distancia y se añade el vecino a la cola de prioridad.\n",
        "\n",
        "3.   Terminación:\n",
        "\n",
        "*   El algoritmo termina cuando se extrae el nodo de destino de la cola de prioridad o cuando la cola de prioridad está vacía.\n",
        "*   La distancia mínima desde el nodo de origen a cada nodo se almacena en un diccionario."
      ],
      "metadata": {
        "id": "mW_6NuLnJOz_"
      }
    },
    {
      "cell_type": "markdown",
      "source": [
        "La librería heapq en Python proporciona una implementación de colas de prioridad basada en montículos (heaps). Esta librería es útil para mantener una lista de elementos ordenada de manera eficiente, permitiendo insertar y extraer los elementos más pequeños (o más grandes) en tiempo logarítmico.\n"
      ],
      "metadata": {
        "id": "008NiQRrIDAw"
      }
    },
    {
      "cell_type": "code",
      "execution_count": 1,
      "metadata": {
        "id": "93sVUF5xG-6v"
      },
      "outputs": [],
      "source": [
        "import heapq"
      ]
    },
    {
      "cell_type": "markdown",
      "source": [
        "Base de conocimiento: Esta clase se encarga de almacenar y gestionar la información sobre las conexiones entre estaciones y las distancias asociadas a cada conexión."
      ],
      "metadata": {
        "id": "s0bd025cImM9"
      }
    },
    {
      "cell_type": "code",
      "source": [
        "# Paso 1: Definir la Base de Conocimiento\n",
        "class KnowledgeBase:\n",
        "    def __init__(self):\n",
        "        self.connections = {}\n",
        "        self.costs = {}\n",
        "\n",
        "    def add_connection(self, from_station, to_station, cost):\n",
        "        if from_station not in self.connections:\n",
        "            self.connections[from_station] = []\n",
        "        self.connections[from_station].append(to_station)\n",
        "        self.costs[(from_station, to_station)] = cost\n",
        "\n",
        "    def get_neighbors(self, station):\n",
        "        return self.connections.get(station, [])\n",
        "\n",
        "    def get_cost(self, from_station, to_station):\n",
        "        return self.costs.get((from_station, to_station), float('inf'))\n",
        "\n"
      ],
      "metadata": {
        "id": "ol52VwVHHH5L"
      },
      "execution_count": 2,
      "outputs": []
    },
    {
      "cell_type": "markdown",
      "source": [
        "El método implementa un motor de inferencia (InferenceEngine) que utiliza el algoritmo de Dijkstra para encontrar la ruta más corta entre dos estaciones en una red de conexiones.\n"
      ],
      "metadata": {
        "id": "mGd4bDB6I7Om"
      }
    },
    {
      "cell_type": "code",
      "source": [
        "# Paso 2: Implementar el Motor de Inferencia\n",
        "class InferenceEngine:\n",
        "    def __init__(self, knowledge_base):\n",
        "        self.knowledge_base = knowledge_base\n",
        "\n",
        "    def infer_best_route(self, start, goal):\n",
        "        return self.dijkstra(start, goal)\n",
        "\n",
        "    def dijkstra(self, start, goal):\n",
        "        queue = [(0, start, [])]\n",
        "        seen = set()\n",
        "        min_dist = {start: 0}\n",
        "\n",
        "        while queue:\n",
        "            (cost, current_station, path) = heapq.heappop(queue)\n",
        "\n",
        "            if current_station in seen:\n",
        "                continue\n",
        "\n",
        "            path = path + [current_station]\n",
        "            seen.add(current_station)\n",
        "\n",
        "            if current_station == goal:\n",
        "                return (cost, path)\n",
        "\n",
        "            for neighbor in self.knowledge_base.get_neighbors(current_station):\n",
        "                if neighbor in seen:\n",
        "                    continue\n",
        "                prev_cost = min_dist.get(neighbor, float('inf'))\n",
        "                new_cost = cost + self.knowledge_base.get_cost(current_station, neighbor)\n",
        "                if new_cost < prev_cost:\n",
        "                    min_dist[neighbor] = new_cost\n",
        "                    heapq.heappush(queue, (new_cost, neighbor, path))\n",
        "\n",
        "        return (float('inf'), [])"
      ],
      "metadata": {
        "id": "uLlCY-DUHLyV"
      },
      "execution_count": 4,
      "outputs": []
    },
    {
      "cell_type": "markdown",
      "source": [
        "El método main integra todos los componentes desarrollados previamente (la base de conocimiento y el motor de inferencia) para encontrar la mejor ruta entre dos estaciones utilizando el algoritmo de Dijkstra.\n",
        "\n",
        "Este método proporciona una implementación completa de un sistema de búsqueda de rutas utilizando el algoritmo de Dijkstra, adecuado para aplicaciones como sistemas de navegación y planificación de rutas."
      ],
      "metadata": {
        "id": "OkPCuFgGKhGh"
      }
    },
    {
      "cell_type": "code",
      "source": [
        "# Paso 3: Desarrollar el Algoritmo de Búsqueda\n",
        "# (Ya implementado dentro del motor de inferencia)\n",
        "\n",
        "# Paso 4: Integrar Todo en un Sistema\n",
        "def main():\n",
        "    kb = KnowledgeBase()\n",
        "    # Datos de conexiones adicionales\n",
        "    data = [\n",
        "        (\"A\", \"B\", 5),\n",
        "        (\"A\", \"C\", 10),\n",
        "        (\"B\", \"C\", 3),\n",
        "        (\"B\", \"D\", 2),\n",
        "        (\"C\", \"D\", 2),\n",
        "        (\"C\", \"E\", 1),\n",
        "        (\"D\", \"E\", 1),\n",
        "        (\"D\", \"F\", 8),\n",
        "        (\"E\", \"F\", 2),\n",
        "        (\"E\", \"G\", 6),\n",
        "        (\"F\", \"G\", 3),\n",
        "        (\"G\", \"H\", 5),\n",
        "        (\"H\", \"I\", 4),\n",
        "        (\"I\", \"J\", 6),\n",
        "        (\"J\", \"K\", 2),\n",
        "        (\"K\", \"L\", 3),\n",
        "        (\"L\", \"M\", 4),\n",
        "        (\"M\", \"N\", 5),\n",
        "        (\"N\", \"O\", 6),\n",
        "        (\"O\", \"P\", 7),\n",
        "        (\"P\", \"Q\", 8),\n",
        "        (\"Q\", \"R\", 9),\n",
        "        (\"R\", \"S\", 10),\n",
        "        (\"S\", \"T\", 1),\n",
        "        (\"T\", \"U\", 12),\n",
        "        (\"U\", \"V\", 13),\n",
        "        (\"V\", \"W\", 14),\n",
        "        (\"W\", \"X\", 15),\n",
        "        (\"X\", \"Y\", 1),\n",
        "        (\"Y\", \"Z\", 17)\n",
        "    ]\n",
        "\n",
        "    # Añadir conexiones a la base de conocimiento\n",
        "    for from_station, to_station, cost in data:\n",
        "        kb.add_connection(from_station, to_station, cost)\n",
        "\n",
        "    engine = InferenceEngine(kb)\n",
        "    start = \"A\"\n",
        "    goal = \"Z\"\n",
        "    cost, path = engine.infer_best_route(start, goal)\n",
        "\n",
        "    print(f\"La mejor ruta de {start} a {goal} tiene una distancia en Km de {cost} y es: {' -> '.join(path)}\")\n",
        "\n",
        "if __name__ == \"__main__\":\n",
        "    main()"
      ],
      "metadata": {
        "colab": {
          "base_uri": "https://localhost:8080/"
        },
        "id": "q_HFfLzrHYxh",
        "outputId": "59ab831d-41e8-4abc-df07-c90e6a6cc4c2"
      },
      "execution_count": 6,
      "outputs": [
        {
          "output_type": "stream",
          "name": "stdout",
          "text": [
            "La mejor ruta de A a Z tiene una distancia en Km de 155 y es: A -> B -> D -> E -> F -> G -> H -> I -> J -> K -> L -> M -> N -> O -> P -> Q -> R -> S -> T -> U -> V -> W -> X -> Y -> Z\n"
          ]
        }
      ]
    }
  ]
}